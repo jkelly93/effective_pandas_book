{
 "cells": [
  {
   "cell_type": "code",
   "execution_count": 1,
   "id": "de57cdc2-f2b8-4f6e-8deb-88a44d57393f",
   "metadata": {},
   "outputs": [],
   "source": [
    "import seaborn as sns  # REMOVELINE\n",
    "sns.set_context('paper')  # REMOVELINE\n",
    "sns.set_style('white') # REMOVELINE"
   ]
  },
  {
   "cell_type": "code",
   "execution_count": 2,
   "id": "bea7a1e0-f48c-4523-87bd-0d05798eaaf9",
   "metadata": {
    "tags": []
   },
   "outputs": [],
   "source": [
    "import pandas as pd"
   ]
  },
  {
   "cell_type": "code",
   "execution_count": 5,
   "id": "d32045ce-ae05-4b52-8d56-1a9583b52bcd",
   "metadata": {
    "tags": []
   },
   "outputs": [
    {
     "data": {
      "text/plain": [
       "'2.0.3'"
      ]
     },
     "execution_count": 5,
     "metadata": {},
     "output_type": "execute_result"
    }
   ],
   "source": [
    "pd.__version__"
   ]
  },
  {
   "cell_type": "code",
   "execution_count": 8,
   "id": "c80b1ff8-bfaa-497c-9a3c-042fee173611",
   "metadata": {
    "tags": []
   },
   "outputs": [],
   "source": [
    "# Series is a dictionary, with keys index, data and name\n",
    "series = {\n",
    "  'index':[0, 1, 2, 3],\n",
    "  'data':[145, 142, 38, 13],\n",
    "  'name':'songs'\n",
    "  }"
   ]
  },
  {
   "cell_type": "code",
   "execution_count": 9,
   "id": "bd0cf13d-955b-4d55-873f-26b5e872e701",
   "metadata": {
    "tags": []
   },
   "outputs": [
    {
     "data": {
      "text/plain": [
       "[145, 142, 38, 13]"
      ]
     },
     "execution_count": 9,
     "metadata": {},
     "output_type": "execute_result"
    }
   ],
   "source": [
    "series['data']"
   ]
  },
  {
   "cell_type": "code",
   "execution_count": 13,
   "id": "1eb6240d-dc70-419a-8442-1a358e50dfed",
   "metadata": {
    "tags": []
   },
   "outputs": [
    {
     "data": {
      "text/plain": [
       "0"
      ]
     },
     "execution_count": 13,
     "metadata": {},
     "output_type": "execute_result"
    }
   ],
   "source": [
    "series['index'].index(0)"
   ]
  },
  {
   "cell_type": "code",
   "execution_count": 14,
   "id": "406d7b44-ef23-4265-bac5-671030c22462",
   "metadata": {
    "tags": []
   },
   "outputs": [
    {
     "data": {
      "text/plain": [
       "1"
      ]
     },
     "execution_count": 14,
     "metadata": {},
     "output_type": "execute_result"
    }
   ],
   "source": [
    "series['index'].index(1)"
   ]
  },
  {
   "cell_type": "code",
   "execution_count": 17,
   "id": "74043998-65f7-4174-a66c-b3b731dff31d",
   "metadata": {
    "tags": []
   },
   "outputs": [
    {
     "data": {
      "text/plain": [
       "0"
      ]
     },
     "execution_count": 17,
     "metadata": {},
     "output_type": "execute_result"
    }
   ],
   "source": [
    "# series['data'] selects the data column and index(145) returns 0 -- the 1st element\n",
    "series['data'].index(145)"
   ]
  },
  {
   "cell_type": "code",
   "execution_count": 19,
   "id": "347c34b5-b64d-4e83-9e3e-78be5238e427",
   "metadata": {
    "tags": []
   },
   "outputs": [
    {
     "data": {
      "text/plain": [
       "3"
      ]
     },
     "execution_count": 19,
     "metadata": {},
     "output_type": "execute_result"
    }
   ],
   "source": [
    "series['data'].index(13)"
   ]
  },
  {
   "cell_type": "code",
   "execution_count": 18,
   "id": "9ec5d7db-6e0d-437c-bebc-30f10be910ef",
   "metadata": {
    "tags": []
   },
   "outputs": [
    {
     "data": {
      "text/plain": [
       "'songs'"
      ]
     },
     "execution_count": 18,
     "metadata": {},
     "output_type": "execute_result"
    }
   ],
   "source": [
    "series['name']"
   ]
  },
  {
   "cell_type": "code",
   "execution_count": 12,
   "id": "deca0f6d-f7dc-4774-bd69-1e1488ac5b5b",
   "metadata": {
    "tags": []
   },
   "outputs": [],
   "source": [
    "def get(series, idx):\n",
    "    value_idx = series['index'].index(idx)\n",
    "    return series['data'][value_idx]"
   ]
  },
  {
   "cell_type": "code",
   "execution_count": 20,
   "id": "a4083771-c6d8-496f-8ea2-5086d63e09d3",
   "metadata": {
    "tags": []
   },
   "outputs": [],
   "source": [
    "songs2 = pd.Series([145, 142,38,13], name = 'counts')"
   ]
  },
  {
   "cell_type": "code",
   "execution_count": 21,
   "id": "21760510-8368-4284-894b-cce21c883a6d",
   "metadata": {
    "tags": []
   },
   "outputs": [
    {
     "data": {
      "text/plain": [
       "0    145\n",
       "1    142\n",
       "2     38\n",
       "3     13\n",
       "Name: counts, dtype: int64"
      ]
     },
     "execution_count": 21,
     "metadata": {},
     "output_type": "execute_result"
    }
   ],
   "source": [
    "songs2"
   ]
  },
  {
   "cell_type": "code",
   "execution_count": 22,
   "id": "37b00790-39b5-4d67-b1e5-21fdc570585b",
   "metadata": {
    "tags": []
   },
   "outputs": [
    {
     "data": {
      "text/plain": [
       "RangeIndex(start=0, stop=4, step=1)"
      ]
     },
     "execution_count": 22,
     "metadata": {},
     "output_type": "execute_result"
    }
   ],
   "source": [
    "songs2.index"
   ]
  },
  {
   "cell_type": "markdown",
   "id": "1878d6ae-de93-4535-827e-b3ea5f4b4237",
   "metadata": {},
   "source": [
    "## Question 1"
   ]
  },
  {
   "cell_type": "code",
   "execution_count": 23,
   "id": "e3d0bdb6-cefc-4f73-a294-888884fdd7aa",
   "metadata": {
    "tags": []
   },
   "outputs": [],
   "source": [
    "temps = pd.Series([34, 22, 31, 29, 30, 18, 14], name = 'temperatures')"
   ]
  },
  {
   "cell_type": "code",
   "execution_count": 24,
   "id": "b514dddc-b6c8-4281-8d21-f13941e961d7",
   "metadata": {
    "tags": []
   },
   "outputs": [],
   "source": [
    "mask = temps > temps.mean()"
   ]
  },
  {
   "cell_type": "code",
   "execution_count": 25,
   "id": "9d037bc3-7d78-4f18-9d2d-b6ec1deecc2b",
   "metadata": {
    "tags": []
   },
   "outputs": [
    {
     "data": {
      "text/plain": [
       "0     True\n",
       "1    False\n",
       "2     True\n",
       "3     True\n",
       "4     True\n",
       "5    False\n",
       "6    False\n",
       "Name: temperatures, dtype: bool"
      ]
     },
     "execution_count": 25,
     "metadata": {},
     "output_type": "execute_result"
    }
   ],
   "source": [
    "mask"
   ]
  },
  {
   "cell_type": "code",
   "execution_count": 27,
   "id": "3ae1d0c1-bc29-4a30-a6ba-97e11803b45d",
   "metadata": {
    "tags": []
   },
   "outputs": [],
   "source": [
    "temps_high_ave = temps[mask]"
   ]
  },
  {
   "cell_type": "code",
   "execution_count": 28,
   "id": "767c9cee-3708-40d7-9ad9-63618f48268d",
   "metadata": {
    "tags": []
   },
   "outputs": [
    {
     "data": {
      "text/plain": [
       "0    34\n",
       "2    31\n",
       "3    29\n",
       "4    30\n",
       "Name: temperatures, dtype: int64"
      ]
     },
     "execution_count": 28,
     "metadata": {},
     "output_type": "execute_result"
    }
   ],
   "source": [
    "temps_high_ave"
   ]
  },
  {
   "cell_type": "markdown",
   "id": "77d5bcd4-0152-4b7e-b6be-37bb246e7043",
   "metadata": {},
   "source": [
    "## Question 2: make color categorical data types"
   ]
  },
  {
   "cell_type": "code",
   "execution_count": 29,
   "id": "9e1492ec-ccb5-4933-83f3-badd8db203a8",
   "metadata": {
    "tags": []
   },
   "outputs": [],
   "source": [
    "favs = pd.Series(['orange', 'red', 'blue'], name = 'colors', dtype ='category')"
   ]
  },
  {
   "cell_type": "code",
   "execution_count": 30,
   "id": "fbb02494-27be-4f25-8186-5263dc6421cc",
   "metadata": {
    "tags": []
   },
   "outputs": [
    {
     "data": {
      "text/plain": [
       "0    orange\n",
       "1       red\n",
       "2      blue\n",
       "Name: colors, dtype: category\n",
       "Categories (3, object): ['blue', 'orange', 'red']"
      ]
     },
     "execution_count": 30,
     "metadata": {},
     "output_type": "execute_result"
    }
   ],
   "source": [
    "favs"
   ]
  },
  {
   "cell_type": "code",
   "execution_count": null,
   "id": "6464c140-0c12-4737-9a07-ce566e7dc9bc",
   "metadata": {},
   "outputs": [],
   "source": []
  }
 ],
 "metadata": {
  "kernelspec": {
   "display_name": "Python 3 (ipykernel)",
   "language": "python",
   "name": "python3"
  },
  "language_info": {
   "codemirror_mode": {
    "name": "ipython",
    "version": 3
   },
   "file_extension": ".py",
   "mimetype": "text/x-python",
   "name": "python",
   "nbconvert_exporter": "python",
   "pygments_lexer": "ipython3",
   "version": "3.11.5"
  }
 },
 "nbformat": 4,
 "nbformat_minor": 5
}
