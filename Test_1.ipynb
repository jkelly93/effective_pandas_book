{
 "cells": [
  {
   "cell_type": "code",
   "execution_count": 1,
   "id": "de57cdc2-f2b8-4f6e-8deb-88a44d57393f",
   "metadata": {},
   "outputs": [],
   "source": [
    "import seaborn as sns  # REMOVELINE\n",
    "sns.set_context('paper')  # REMOVELINE\n",
    "sns.set_style('white') # REMOVELINE"
   ]
  },
  {
   "cell_type": "code",
   "execution_count": 2,
   "id": "bea7a1e0-f48c-4523-87bd-0d05798eaaf9",
   "metadata": {
    "tags": []
   },
   "outputs": [],
   "source": [
    "import pandas as pd"
   ]
  },
  {
   "cell_type": "code",
   "execution_count": 5,
   "id": "d32045ce-ae05-4b52-8d56-1a9583b52bcd",
   "metadata": {
    "tags": []
   },
   "outputs": [
    {
     "data": {
      "text/plain": [
       "'2.0.3'"
      ]
     },
     "execution_count": 5,
     "metadata": {},
     "output_type": "execute_result"
    }
   ],
   "source": [
    "pd.__version__"
   ]
  },
  {
   "cell_type": "code",
   "execution_count": 8,
   "id": "c80b1ff8-bfaa-497c-9a3c-042fee173611",
   "metadata": {
    "tags": []
   },
   "outputs": [],
   "source": [
    "# Series is a dictionary, with keys index, data and name\n",
    "series = {\n",
    "  'index':[0, 1, 2, 3],\n",
    "  'data':[145, 142, 38, 13],\n",
    "  'name':'songs'\n",
    "  }"
   ]
  },
  {
   "cell_type": "code",
   "execution_count": 7,
   "id": "1eb6240d-dc70-419a-8442-1a358e50dfed",
   "metadata": {
    "tags": []
   },
   "outputs": [
    {
     "data": {
      "text/plain": [
       "[0, 1, 2, 3]"
      ]
     },
     "execution_count": 7,
     "metadata": {},
     "output_type": "execute_result"
    }
   ],
   "source": [
    "series['index']"
   ]
  },
  {
   "cell_type": "code",
   "execution_count": 9,
   "id": "bd0cf13d-955b-4d55-873f-26b5e872e701",
   "metadata": {
    "tags": []
   },
   "outputs": [
    {
     "data": {
      "text/plain": [
       "[145, 142, 38, 13]"
      ]
     },
     "execution_count": 9,
     "metadata": {},
     "output_type": "execute_result"
    }
   ],
   "source": [
    "series['data']"
   ]
  },
  {
   "cell_type": "code",
   "execution_count": 10,
   "id": "9ec5d7db-6e0d-437c-bebc-30f10be910ef",
   "metadata": {
    "tags": []
   },
   "outputs": [
    {
     "data": {
      "text/plain": [
       "'songs'"
      ]
     },
     "execution_count": 10,
     "metadata": {},
     "output_type": "execute_result"
    }
   ],
   "source": [
    "series['name']"
   ]
  },
  {
   "cell_type": "code",
   "execution_count": null,
   "id": "deca0f6d-f7dc-4774-bd69-1e1488ac5b5b",
   "metadata": {},
   "outputs": [],
   "source": []
  }
 ],
 "metadata": {
  "kernelspec": {
   "display_name": "Python 3 (ipykernel)",
   "language": "python",
   "name": "python3"
  },
  "language_info": {
   "codemirror_mode": {
    "name": "ipython",
    "version": 3
   },
   "file_extension": ".py",
   "mimetype": "text/x-python",
   "name": "python",
   "nbconvert_exporter": "python",
   "pygments_lexer": "ipython3",
   "version": "3.11.5"
  }
 },
 "nbformat": 4,
 "nbformat_minor": 5
}
